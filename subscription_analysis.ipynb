{
 "cells": [
  {
   "cell_type": "markdown",
   "id": "0ddf8822-6fcf-47db-9efd-93393dc76272",
   "metadata": {},
   "source": [
    "# Customer Subscription Analysis"
   ]
  },
  {
   "cell_type": "code",
   "execution_count": null,
   "id": "aec6db93-74af-4f6e-9b1c-90ce517de466",
   "metadata": {},
   "outputs": [],
   "source": []
  },
  {
   "cell_type": "code",
   "execution_count": 461,
   "id": "ce7e631c-cdbc-4842-beee-1afcde68fe5c",
   "metadata": {},
   "outputs": [],
   "source": [
    "#Import libraries\n",
    "import sqlite3 #for SQLite database connection\n",
    "import pandas as pd #data manipulation and analysis\n",
    "import numpy as np\n",
    "import matplotlib.pyplot as plt\n",
    "import seaborn as sns"
   ]
  },
  {
   "cell_type": "code",
   "execution_count": 463,
   "id": "baca1eba-06f6-4646-8e29-182766cca09e",
   "metadata": {},
   "outputs": [],
   "source": [
    "#Read in Data\n",
    "df_cases = pd.read_csv(\"customer_cases.csv\")\n",
    "df_customer_info = pd.read_csv(\"customer_info.csv\")\n",
    "df_signup_cancel = pd.read_csv(\"customer_product.csv\")\n",
    "df_products = pd.read_csv(\"product_info.csv\")"
   ]
  },
  {
   "cell_type": "code",
   "execution_count": 101,
   "id": "f48e94c0-8734-4a84-bd31-9a1658e7f2c6",
   "metadata": {},
   "outputs": [
    {
     "name": "stdout",
     "output_type": "stream",
     "text": [
      "tables successfully uploaded to SQLite\n"
     ]
    }
   ],
   "source": [
    "#Create SQLite database\n",
    "conn = sqlite3.connect('subscriptions.db')\n",
    "cursor = conn.cursor()\n",
    "\n",
    "df_cases.to_sql('cases', conn, if_exists ='replace', index=False)\n",
    "df_signup_cancel.to_sql('signup_cancel', conn, if_exists = 'replace', index=False)\n",
    "df_products.to_sql('products', conn, if_exists ='replace', index=False)\n",
    "df_customer_info.to_sql('customers', conn, if_exists ='replace', index=False)\n",
    "print(\"tables successfully uploaded to SQLite\")"
   ]
  },
  {
   "cell_type": "code",
   "execution_count": 176,
   "id": "339cc9e5-7389-4414-83ee-7bedd9ecaa9b",
   "metadata": {},
   "outputs": [
    {
     "name": "stdout",
     "output_type": "stream",
     "text": [
      "tables in the database: [('cases',), ('signup_cancel',), ('products',), ('customers',)]\n"
     ]
    }
   ],
   "source": [
    "#Check table names in the SQL database\n",
    "tables = cursor.execute(\"SELECT name FROM sqlite_master WHERE type='table';\").fetchall()\n",
    "print(\"tables in the database:\", tables)\n",
    "conn.commit()"
   ]
  },
  {
   "cell_type": "code",
   "execution_count": 178,
   "id": "760d0931-b6c6-45c5-aee3-ca53482435b1",
   "metadata": {},
   "outputs": [
    {
     "name": "stdout",
     "output_type": "stream",
     "text": [
      "First rows of cases:\n"
     ]
    },
    {
     "data": {
      "text/html": [
       "<div>\n",
       "<style scoped>\n",
       "    .dataframe tbody tr th:only-of-type {\n",
       "        vertical-align: middle;\n",
       "    }\n",
       "\n",
       "    .dataframe tbody tr th {\n",
       "        vertical-align: top;\n",
       "    }\n",
       "\n",
       "    .dataframe thead th {\n",
       "        text-align: right;\n",
       "    }\n",
       "</style>\n",
       "<table border=\"1\" class=\"dataframe\">\n",
       "  <thead>\n",
       "    <tr style=\"text-align: right;\">\n",
       "      <th></th>\n",
       "      <th>Unnamed: 0</th>\n",
       "      <th>case_id</th>\n",
       "      <th>date_time</th>\n",
       "      <th>customer_id</th>\n",
       "      <th>channel</th>\n",
       "      <th>reason</th>\n",
       "    </tr>\n",
       "  </thead>\n",
       "  <tbody>\n",
       "    <tr>\n",
       "      <th>0</th>\n",
       "      <td>1</td>\n",
       "      <td>CC101</td>\n",
       "      <td>2017-01-01 10:32:03</td>\n",
       "      <td>C2448</td>\n",
       "      <td>phone</td>\n",
       "      <td>signup</td>\n",
       "    </tr>\n",
       "    <tr>\n",
       "      <th>1</th>\n",
       "      <td>2</td>\n",
       "      <td>CC102</td>\n",
       "      <td>2017-01-01 11:35:47</td>\n",
       "      <td>C2449</td>\n",
       "      <td>phone</td>\n",
       "      <td>signup</td>\n",
       "    </tr>\n",
       "    <tr>\n",
       "      <th>2</th>\n",
       "      <td>3</td>\n",
       "      <td>CC103</td>\n",
       "      <td>2017-01-01 11:37:09</td>\n",
       "      <td>C2450</td>\n",
       "      <td>phone</td>\n",
       "      <td>signup</td>\n",
       "    </tr>\n",
       "    <tr>\n",
       "      <th>3</th>\n",
       "      <td>4</td>\n",
       "      <td>CC104</td>\n",
       "      <td>2017-01-01 13:28:14</td>\n",
       "      <td>C2451</td>\n",
       "      <td>phone</td>\n",
       "      <td>signup</td>\n",
       "    </tr>\n",
       "    <tr>\n",
       "      <th>4</th>\n",
       "      <td>5</td>\n",
       "      <td>CC105</td>\n",
       "      <td>2017-01-01 13:52:22</td>\n",
       "      <td>C2452</td>\n",
       "      <td>phone</td>\n",
       "      <td>signup</td>\n",
       "    </tr>\n",
       "  </tbody>\n",
       "</table>\n",
       "</div>"
      ],
      "text/plain": [
       "   Unnamed: 0 case_id            date_time customer_id channel  reason\n",
       "0           1   CC101  2017-01-01 10:32:03       C2448   phone  signup\n",
       "1           2   CC102  2017-01-01 11:35:47       C2449   phone  signup\n",
       "2           3   CC103  2017-01-01 11:37:09       C2450   phone  signup\n",
       "3           4   CC104  2017-01-01 13:28:14       C2451   phone  signup\n",
       "4           5   CC105  2017-01-01 13:52:22       C2452   phone  signup"
      ]
     },
     "metadata": {},
     "output_type": "display_data"
    },
    {
     "name": "stdout",
     "output_type": "stream",
     "text": [
      "First rows of signup_cancel:\n"
     ]
    },
    {
     "data": {
      "text/html": [
       "<div>\n",
       "<style scoped>\n",
       "    .dataframe tbody tr th:only-of-type {\n",
       "        vertical-align: middle;\n",
       "    }\n",
       "\n",
       "    .dataframe tbody tr th {\n",
       "        vertical-align: top;\n",
       "    }\n",
       "\n",
       "    .dataframe thead th {\n",
       "        text-align: right;\n",
       "    }\n",
       "</style>\n",
       "<table border=\"1\" class=\"dataframe\">\n",
       "  <thead>\n",
       "    <tr style=\"text-align: right;\">\n",
       "      <th></th>\n",
       "      <th>Unnamed: 0</th>\n",
       "      <th>customer_id</th>\n",
       "      <th>product</th>\n",
       "      <th>signup_date_time</th>\n",
       "      <th>cancel_date_time</th>\n",
       "    </tr>\n",
       "  </thead>\n",
       "  <tbody>\n",
       "    <tr>\n",
       "      <th>0</th>\n",
       "      <td>1</td>\n",
       "      <td>C2448</td>\n",
       "      <td>prd_1</td>\n",
       "      <td>2017-01-01 10:35:09</td>\n",
       "      <td>None</td>\n",
       "    </tr>\n",
       "    <tr>\n",
       "      <th>1</th>\n",
       "      <td>2</td>\n",
       "      <td>C2449</td>\n",
       "      <td>prd_1</td>\n",
       "      <td>2017-01-01 11:39:29</td>\n",
       "      <td>2021-09-05 10:00:02</td>\n",
       "    </tr>\n",
       "    <tr>\n",
       "      <th>2</th>\n",
       "      <td>3</td>\n",
       "      <td>C2450</td>\n",
       "      <td>prd_1</td>\n",
       "      <td>2017-01-01 11:42:00</td>\n",
       "      <td>2019-01-13 16:24:55</td>\n",
       "    </tr>\n",
       "    <tr>\n",
       "      <th>3</th>\n",
       "      <td>4</td>\n",
       "      <td>C2451</td>\n",
       "      <td>prd_2</td>\n",
       "      <td>2017-01-01 13:32:08</td>\n",
       "      <td>None</td>\n",
       "    </tr>\n",
       "    <tr>\n",
       "      <th>4</th>\n",
       "      <td>5</td>\n",
       "      <td>C2452</td>\n",
       "      <td>prd_1</td>\n",
       "      <td>2017-01-01 13:57:30</td>\n",
       "      <td>2021-06-28 18:06:01</td>\n",
       "    </tr>\n",
       "  </tbody>\n",
       "</table>\n",
       "</div>"
      ],
      "text/plain": [
       "   Unnamed: 0 customer_id product     signup_date_time     cancel_date_time\n",
       "0           1       C2448   prd_1  2017-01-01 10:35:09                 None\n",
       "1           2       C2449   prd_1  2017-01-01 11:39:29  2021-09-05 10:00:02\n",
       "2           3       C2450   prd_1  2017-01-01 11:42:00  2019-01-13 16:24:55\n",
       "3           4       C2451   prd_2  2017-01-01 13:32:08                 None\n",
       "4           5       C2452   prd_1  2017-01-01 13:57:30  2021-06-28 18:06:01"
      ]
     },
     "metadata": {},
     "output_type": "display_data"
    },
    {
     "name": "stdout",
     "output_type": "stream",
     "text": [
      "First rows of customers:\n"
     ]
    },
    {
     "data": {
      "text/html": [
       "<div>\n",
       "<style scoped>\n",
       "    .dataframe tbody tr th:only-of-type {\n",
       "        vertical-align: middle;\n",
       "    }\n",
       "\n",
       "    .dataframe tbody tr th {\n",
       "        vertical-align: top;\n",
       "    }\n",
       "\n",
       "    .dataframe thead th {\n",
       "        text-align: right;\n",
       "    }\n",
       "</style>\n",
       "<table border=\"1\" class=\"dataframe\">\n",
       "  <thead>\n",
       "    <tr style=\"text-align: right;\">\n",
       "      <th></th>\n",
       "      <th>Unnamed: 0</th>\n",
       "      <th>customer_id</th>\n",
       "      <th>age</th>\n",
       "      <th>gender</th>\n",
       "    </tr>\n",
       "  </thead>\n",
       "  <tbody>\n",
       "    <tr>\n",
       "      <th>0</th>\n",
       "      <td>1</td>\n",
       "      <td>C2448</td>\n",
       "      <td>76</td>\n",
       "      <td>female</td>\n",
       "    </tr>\n",
       "    <tr>\n",
       "      <th>1</th>\n",
       "      <td>2</td>\n",
       "      <td>C2449</td>\n",
       "      <td>61</td>\n",
       "      <td>male</td>\n",
       "    </tr>\n",
       "    <tr>\n",
       "      <th>2</th>\n",
       "      <td>3</td>\n",
       "      <td>C2450</td>\n",
       "      <td>58</td>\n",
       "      <td>female</td>\n",
       "    </tr>\n",
       "    <tr>\n",
       "      <th>3</th>\n",
       "      <td>4</td>\n",
       "      <td>C2451</td>\n",
       "      <td>62</td>\n",
       "      <td>female</td>\n",
       "    </tr>\n",
       "    <tr>\n",
       "      <th>4</th>\n",
       "      <td>5</td>\n",
       "      <td>C2452</td>\n",
       "      <td>71</td>\n",
       "      <td>male</td>\n",
       "    </tr>\n",
       "  </tbody>\n",
       "</table>\n",
       "</div>"
      ],
      "text/plain": [
       "   Unnamed: 0 customer_id  age  gender\n",
       "0           1       C2448   76  female\n",
       "1           2       C2449   61    male\n",
       "2           3       C2450   58  female\n",
       "3           4       C2451   62  female\n",
       "4           5       C2452   71    male"
      ]
     },
     "metadata": {},
     "output_type": "display_data"
    },
    {
     "name": "stdout",
     "output_type": "stream",
     "text": [
      "First rows of products:\n"
     ]
    },
    {
     "data": {
      "text/html": [
       "<div>\n",
       "<style scoped>\n",
       "    .dataframe tbody tr th:only-of-type {\n",
       "        vertical-align: middle;\n",
       "    }\n",
       "\n",
       "    .dataframe tbody tr th {\n",
       "        vertical-align: top;\n",
       "    }\n",
       "\n",
       "    .dataframe thead th {\n",
       "        text-align: right;\n",
       "    }\n",
       "</style>\n",
       "<table border=\"1\" class=\"dataframe\">\n",
       "  <thead>\n",
       "    <tr style=\"text-align: right;\">\n",
       "      <th></th>\n",
       "      <th>product_id</th>\n",
       "      <th>name</th>\n",
       "      <th>price</th>\n",
       "      <th>billing_cycle</th>\n",
       "    </tr>\n",
       "  </thead>\n",
       "  <tbody>\n",
       "    <tr>\n",
       "      <th>0</th>\n",
       "      <td>prd_1</td>\n",
       "      <td>annual_subscription</td>\n",
       "      <td>1200</td>\n",
       "      <td>12</td>\n",
       "    </tr>\n",
       "    <tr>\n",
       "      <th>1</th>\n",
       "      <td>prd_2</td>\n",
       "      <td>monthly_subscription</td>\n",
       "      <td>125</td>\n",
       "      <td>1</td>\n",
       "    </tr>\n",
       "  </tbody>\n",
       "</table>\n",
       "</div>"
      ],
      "text/plain": [
       "  product_id                  name  price  billing_cycle\n",
       "0      prd_1   annual_subscription   1200             12\n",
       "1      prd_2  monthly_subscription    125              1"
      ]
     },
     "metadata": {},
     "output_type": "display_data"
    }
   ],
   "source": [
    "#Check first few rows of each table\n",
    "for table in [\"cases\", \"signup_cancel\", \"customers\", \"products\"]:\n",
    "    query = f\"SELECT * FROM {table} LIMIT 5;\"\n",
    "    print(f\"First rows of {table}:\")\n",
    "    display(pd.read_sql_query(query, conn))"
   ]
  },
  {
   "cell_type": "markdown",
   "id": "e472e723-3b8d-42b5-b47e-92d37fe66515",
   "metadata": {},
   "source": [
    "## 1. Data Preprocessing \n",
    "Chcek for missing values"
   ]
  },
  {
   "cell_type": "code",
   "execution_count": 339,
   "id": "bb6e75de-82e3-4eb0-ae24-0ff4935d868a",
   "metadata": {},
   "outputs": [
    {
     "data": {
      "text/plain": [
       "Unnamed: 0               0\n",
       "customer_id              0\n",
       "product                  0\n",
       "signup_date_time         0\n",
       "cancel_date_time    396447\n",
       "dtype: int64"
      ]
     },
     "execution_count": 339,
     "metadata": {},
     "output_type": "execute_result"
    }
   ],
   "source": [
    "df_cases.isnull().sum()\n",
    "df_customer_info.isnull().sum()\n",
    "df_products.isnull().sum()\n",
    "df_signup_cancel.isnull().sum() #369k missing cancel dates values"
   ]
  },
  {
   "cell_type": "markdown",
   "id": "0107e95e-41fa-4302-9dd3-45fc5f59b57f",
   "metadata": {},
   "source": [
    "We can assume the missing cancellation dates indicate the customer has not cancelled their subscription. Lrt's create new column for active and inactive customers. "
   ]
  },
  {
   "cell_type": "code",
   "execution_count": 465,
   "id": "1497ca1e-9f89-45fd-b8de-6b85110b7e46",
   "metadata": {},
   "outputs": [
    {
     "data": {
      "text/html": [
       "<div>\n",
       "<style scoped>\n",
       "    .dataframe tbody tr th:only-of-type {\n",
       "        vertical-align: middle;\n",
       "    }\n",
       "\n",
       "    .dataframe tbody tr th {\n",
       "        vertical-align: top;\n",
       "    }\n",
       "\n",
       "    .dataframe thead th {\n",
       "        text-align: right;\n",
       "    }\n",
       "</style>\n",
       "<table border=\"1\" class=\"dataframe\">\n",
       "  <thead>\n",
       "    <tr style=\"text-align: right;\">\n",
       "      <th></th>\n",
       "      <th>Unnamed: 0</th>\n",
       "      <th>customer_id</th>\n",
       "      <th>product</th>\n",
       "      <th>signup_date_time</th>\n",
       "      <th>cancel_date_time</th>\n",
       "      <th>status</th>\n",
       "    </tr>\n",
       "  </thead>\n",
       "  <tbody>\n",
       "    <tr>\n",
       "      <th>0</th>\n",
       "      <td>1</td>\n",
       "      <td>C2448</td>\n",
       "      <td>prd_1</td>\n",
       "      <td>2017-01-01 10:35:09</td>\n",
       "      <td>NaN</td>\n",
       "      <td>Active</td>\n",
       "    </tr>\n",
       "    <tr>\n",
       "      <th>1</th>\n",
       "      <td>2</td>\n",
       "      <td>C2449</td>\n",
       "      <td>prd_1</td>\n",
       "      <td>2017-01-01 11:39:29</td>\n",
       "      <td>2021-09-05 10:00:02</td>\n",
       "      <td>Inactive</td>\n",
       "    </tr>\n",
       "    <tr>\n",
       "      <th>2</th>\n",
       "      <td>3</td>\n",
       "      <td>C2450</td>\n",
       "      <td>prd_1</td>\n",
       "      <td>2017-01-01 11:42:00</td>\n",
       "      <td>2019-01-13 16:24:55</td>\n",
       "      <td>Inactive</td>\n",
       "    </tr>\n",
       "    <tr>\n",
       "      <th>3</th>\n",
       "      <td>4</td>\n",
       "      <td>C2451</td>\n",
       "      <td>prd_2</td>\n",
       "      <td>2017-01-01 13:32:08</td>\n",
       "      <td>NaN</td>\n",
       "      <td>Active</td>\n",
       "    </tr>\n",
       "    <tr>\n",
       "      <th>4</th>\n",
       "      <td>5</td>\n",
       "      <td>C2452</td>\n",
       "      <td>prd_1</td>\n",
       "      <td>2017-01-01 13:57:30</td>\n",
       "      <td>2021-06-28 18:06:01</td>\n",
       "      <td>Inactive</td>\n",
       "    </tr>\n",
       "  </tbody>\n",
       "</table>\n",
       "</div>"
      ],
      "text/plain": [
       "   Unnamed: 0 customer_id product     signup_date_time     cancel_date_time  \\\n",
       "0           1       C2448   prd_1  2017-01-01 10:35:09                  NaN   \n",
       "1           2       C2449   prd_1  2017-01-01 11:39:29  2021-09-05 10:00:02   \n",
       "2           3       C2450   prd_1  2017-01-01 11:42:00  2019-01-13 16:24:55   \n",
       "3           4       C2451   prd_2  2017-01-01 13:32:08                  NaN   \n",
       "4           5       C2452   prd_1  2017-01-01 13:57:30  2021-06-28 18:06:01   \n",
       "\n",
       "     status  \n",
       "0    Active  \n",
       "1  Inactive  \n",
       "2  Inactive  \n",
       "3    Active  \n",
       "4  Inactive  "
      ]
     },
     "execution_count": 465,
     "metadata": {},
     "output_type": "execute_result"
    }
   ],
   "source": [
    "df_signup_cancel['status'] = df_signup_cancel['cancel_date_time'].isna().map({True: 'Active', False: 'Inactive'})\n",
    "df_signup_cancel.head()"
   ]
  },
  {
   "cell_type": "markdown",
   "id": "b622003c-a321-45e1-967d-f309fce2bfdd",
   "metadata": {},
   "source": [
    "Lets remove the extra column, its unecesaary"
   ]
  },
  {
   "cell_type": "code",
   "execution_count": null,
   "id": "f311f590-6634-4031-84a4-f95866c50f79",
   "metadata": {},
   "outputs": [],
   "source": [
    "# Removes first column\n",
    "def remove_first_column(df):\n",
    "    first_column = df.columns[0]\n",
    "    return df.drop(columns = first_column, axis=1)\n",
    "\n",
    "# df_cases = remove_first_column(df_cases)\n",
    "# df_signup_cancel = remove_first_column(df_signup_cancel)\n",
    "# df_customer_info = remove_first_column(df_customer_info)"
   ]
  },
  {
   "cell_type": "markdown",
   "id": "80472504-d649-4012-8ff4-7ebba215b6a5",
   "metadata": {},
   "source": [
    "Chcek structure and statistics"
   ]
  },
  {
   "cell_type": "code",
   "execution_count": 277,
   "id": "4a8a8353-b05e-4be4-a2a6-cf4228d789cf",
   "metadata": {},
   "outputs": [
    {
     "name": "stdout",
     "output_type": "stream",
     "text": [
      "<class 'pandas.core.frame.DataFrame'>\n",
      "RangeIndex: 330512 entries, 0 to 330511\n",
      "Data columns (total 6 columns):\n",
      " #   Column       Non-Null Count   Dtype \n",
      "---  ------       --------------   ----- \n",
      " 0   Unnamed: 0   330512 non-null  int64 \n",
      " 1   case_id      330512 non-null  object\n",
      " 2   date_time    330512 non-null  object\n",
      " 3   customer_id  330512 non-null  object\n",
      " 4   channel      330512 non-null  object\n",
      " 5   reason       330512 non-null  object\n",
      "dtypes: int64(1), object(5)\n",
      "memory usage: 15.1+ MB\n"
     ]
    }
   ],
   "source": [
    "df_cases.describe()\n",
    "df_cases.info()"
   ]
  },
  {
   "cell_type": "markdown",
   "id": "42518932-9f9a-4809-908b-9fef249141e1",
   "metadata": {},
   "source": [
    "Convert date and time to correct data type"
   ]
  },
  {
   "cell_type": "code",
   "execution_count": 467,
   "id": "930cadad-c91d-4e25-86b9-a911a5fb9a16",
   "metadata": {},
   "outputs": [
    {
     "data": {
      "text/plain": [
       "Unnamed: 0                   int64\n",
       "customer_id                 object\n",
       "product                     object\n",
       "signup_date_time    datetime64[ns]\n",
       "cancel_date_time    datetime64[ns]\n",
       "status                      object\n",
       "dtype: object"
      ]
     },
     "execution_count": 467,
     "metadata": {},
     "output_type": "execute_result"
    }
   ],
   "source": [
    "# Converts date column to correct format\n",
    "date_columns = ['signup_date_time', 'cancel_date_time', 'date_time']\n",
    "\n",
    "def convert_date_time(df, column_list):\n",
    "    for column in column_list:\n",
    "        if column in df.columns:\n",
    "            df[column] = pd.to_datetime(df[column])\n",
    "    return df\n",
    "\n",
    "df_signup_cancel = convert_date_time(df_signup_cancel, date_columns)\n",
    "df_cases = convert_date_time(df_cases, date_columns)\n",
    "df_signup_cancel.dtypes"
   ]
  },
  {
   "cell_type": "code",
   "execution_count": 469,
   "id": "5cb10e30-1961-4218-9cc0-84d086d2538f",
   "metadata": {},
   "outputs": [],
   "source": [
    "df_cases = df_cases.drop_duplicates()\n",
    "df_signup_cancel = df_signup_cancel.drop_duplicates()\n",
    "df_customer_info = df_customer_info.drop_duplicates()\n",
    "df_products = df_products.drop_duplicates()"
   ]
  },
  {
   "cell_type": "code",
   "execution_count": null,
   "id": "a51f6af6-65ee-4b43-b9bd-5a2784006597",
   "metadata": {},
   "outputs": [],
   "source": []
  },
  {
   "cell_type": "markdown",
   "id": "f2ec8a10-03dd-46c1-a50a-4ec3faa81c36",
   "metadata": {},
   "source": [
    "### SQL Exploratory Data Analysis"
   ]
  },
  {
   "cell_type": "code",
   "execution_count": 144,
   "id": "9f1146d6-f9e4-4701-88ec-75696f5c0679",
   "metadata": {},
   "outputs": [
    {
     "data": {
      "text/html": [
       "<div>\n",
       "<style scoped>\n",
       "    .dataframe tbody tr th:only-of-type {\n",
       "        vertical-align: middle;\n",
       "    }\n",
       "\n",
       "    .dataframe tbody tr th {\n",
       "        vertical-align: top;\n",
       "    }\n",
       "\n",
       "    .dataframe thead th {\n",
       "        text-align: right;\n",
       "    }\n",
       "</style>\n",
       "<table border=\"1\" class=\"dataframe\">\n",
       "  <thead>\n",
       "    <tr style=\"text-align: right;\">\n",
       "      <th></th>\n",
       "      <th>COUNT(*)</th>\n",
       "    </tr>\n",
       "  </thead>\n",
       "  <tbody>\n",
       "    <tr>\n",
       "      <th>0</th>\n",
       "      <td>1</td>\n",
       "    </tr>\n",
       "  </tbody>\n",
       "</table>\n",
       "</div>"
      ],
      "text/plain": [
       "   COUNT(*)\n",
       "0         1"
      ]
     },
     "execution_count": 144,
     "metadata": {},
     "output_type": "execute_result"
    }
   ],
   "source": [
    "query = '''\n",
    "    SELECT *\n",
    "    FROM signup_cancel s\n",
    "    LEFT JOIN customers c ON c.customer_id = s.customer_id\n",
    "    WHERE cancel_date_time IS NULL\n",
    "    ORDER BY c.customer_id\n",
    "    LIMIT 5\n",
    "'''\n",
    "pd.read_sql_query(query, conn)"
   ]
  },
  {
   "cell_type": "code",
   "execution_count": 154,
   "id": "f284b326-ed01-44ac-858b-9da3474a740e",
   "metadata": {},
   "outputs": [
    {
     "data": {
      "text/html": [
       "<div>\n",
       "<style scoped>\n",
       "    .dataframe tbody tr th:only-of-type {\n",
       "        vertical-align: middle;\n",
       "    }\n",
       "\n",
       "    .dataframe tbody tr th {\n",
       "        vertical-align: top;\n",
       "    }\n",
       "\n",
       "    .dataframe thead th {\n",
       "        text-align: right;\n",
       "    }\n",
       "</style>\n",
       "<table border=\"1\" class=\"dataframe\">\n",
       "  <thead>\n",
       "    <tr style=\"text-align: right;\">\n",
       "      <th></th>\n",
       "      <th>total_customers</th>\n",
       "    </tr>\n",
       "  </thead>\n",
       "  <tbody>\n",
       "    <tr>\n",
       "      <th>0</th>\n",
       "      <td>508932</td>\n",
       "    </tr>\n",
       "  </tbody>\n",
       "</table>\n",
       "</div>"
      ],
      "text/plain": [
       "   total_customers\n",
       "0           508932"
      ]
     },
     "execution_count": 154,
     "metadata": {},
     "output_type": "execute_result"
    }
   ],
   "source": [
    "query = '''\n",
    "    SELECT COUNT(*) AS total_customers\n",
    "    FROM customers\n",
    "'''\n",
    "pd.read_sql_query(query, conn)"
   ]
  },
  {
   "cell_type": "code",
   "execution_count": 164,
   "id": "0521f47a-bad3-4437-8b25-cbcd5002a28c",
   "metadata": {},
   "outputs": [
    {
     "data": {
      "text/html": [
       "<div>\n",
       "<style scoped>\n",
       "    .dataframe tbody tr th:only-of-type {\n",
       "        vertical-align: middle;\n",
       "    }\n",
       "\n",
       "    .dataframe tbody tr th {\n",
       "        vertical-align: top;\n",
       "    }\n",
       "\n",
       "    .dataframe thead th {\n",
       "        text-align: right;\n",
       "    }\n",
       "</style>\n",
       "<table border=\"1\" class=\"dataframe\">\n",
       "  <thead>\n",
       "    <tr style=\"text-align: right;\">\n",
       "      <th></th>\n",
       "      <th>cancelled_customers</th>\n",
       "    </tr>\n",
       "  </thead>\n",
       "  <tbody>\n",
       "    <tr>\n",
       "      <th>0</th>\n",
       "      <td>112485</td>\n",
       "    </tr>\n",
       "  </tbody>\n",
       "</table>\n",
       "</div>"
      ],
      "text/plain": [
       "   cancelled_customers\n",
       "0               112485"
      ]
     },
     "execution_count": 164,
     "metadata": {},
     "output_type": "execute_result"
    }
   ],
   "source": [
    "query = '''\n",
    "    SELECT COUNT(*) AS cancelled_customers\n",
    "    FROM signup_cancel\n",
    "    WHERE cancel_date_time IS NOT NULL\n",
    "'''\n",
    "pd.read_sql_query(query, conn)"
   ]
  },
  {
   "cell_type": "code",
   "execution_count": 190,
   "id": "45954287-6a58-4fd5-97c8-c7e127d1c172",
   "metadata": {},
   "outputs": [
    {
     "data": {
      "text/html": [
       "<div>\n",
       "<style scoped>\n",
       "    .dataframe tbody tr th:only-of-type {\n",
       "        vertical-align: middle;\n",
       "    }\n",
       "\n",
       "    .dataframe tbody tr th {\n",
       "        vertical-align: top;\n",
       "    }\n",
       "\n",
       "    .dataframe thead th {\n",
       "        text-align: right;\n",
       "    }\n",
       "</style>\n",
       "<table border=\"1\" class=\"dataframe\">\n",
       "  <thead>\n",
       "    <tr style=\"text-align: right;\">\n",
       "      <th></th>\n",
       "      <th>channel</th>\n",
       "      <th>total_cases</th>\n",
       "    </tr>\n",
       "  </thead>\n",
       "  <tbody>\n",
       "    <tr>\n",
       "      <th>0</th>\n",
       "      <td>email</td>\n",
       "      <td>43672</td>\n",
       "    </tr>\n",
       "    <tr>\n",
       "      <th>1</th>\n",
       "      <td>phone</td>\n",
       "      <td>286840</td>\n",
       "    </tr>\n",
       "  </tbody>\n",
       "</table>\n",
       "</div>"
      ],
      "text/plain": [
       "  channel  total_cases\n",
       "0   email        43672\n",
       "1   phone       286840"
      ]
     },
     "execution_count": 190,
     "metadata": {},
     "output_type": "execute_result"
    }
   ],
   "source": [
    "query = '''\n",
    "    SELECT channel, count(*) AS total_cases\n",
    "    FROM cases\n",
    "    GROUP BY channel\n",
    "'''\n",
    "pd.read_sql_query(query, conn)"
   ]
  },
  {
   "cell_type": "code",
   "execution_count": 258,
   "id": "dce267d7-98ed-485b-a062-d538f9376a66",
   "metadata": {},
   "outputs": [
    {
     "data": {
      "text/html": [
       "<div>\n",
       "<style scoped>\n",
       "    .dataframe tbody tr th:only-of-type {\n",
       "        vertical-align: middle;\n",
       "    }\n",
       "\n",
       "    .dataframe tbody tr th {\n",
       "        vertical-align: top;\n",
       "    }\n",
       "\n",
       "    .dataframe thead th {\n",
       "        text-align: right;\n",
       "    }\n",
       "</style>\n",
       "<table border=\"1\" class=\"dataframe\">\n",
       "  <thead>\n",
       "    <tr style=\"text-align: right;\">\n",
       "      <th></th>\n",
       "      <th>reason</th>\n",
       "      <th>channel</th>\n",
       "      <th>total_cases</th>\n",
       "    </tr>\n",
       "  </thead>\n",
       "  <tbody>\n",
       "    <tr>\n",
       "      <th>0</th>\n",
       "      <td>signup</td>\n",
       "      <td>phone</td>\n",
       "      <td>129527</td>\n",
       "    </tr>\n",
       "    <tr>\n",
       "      <th>1</th>\n",
       "      <td>support</td>\n",
       "      <td>email</td>\n",
       "      <td>43672</td>\n",
       "    </tr>\n",
       "    <tr>\n",
       "      <th>2</th>\n",
       "      <td>support</td>\n",
       "      <td>phone</td>\n",
       "      <td>157313</td>\n",
       "    </tr>\n",
       "  </tbody>\n",
       "</table>\n",
       "</div>"
      ],
      "text/plain": [
       "    reason channel  total_cases\n",
       "0   signup   phone       129527\n",
       "1  support   email        43672\n",
       "2  support   phone       157313"
      ]
     },
     "execution_count": 258,
     "metadata": {},
     "output_type": "execute_result"
    }
   ],
   "source": [
    "query = '''\n",
    "    SELECT reason, channel, count(*) AS total_cases\n",
    "    FROM cases\n",
    "    GROUP BY reason, channel\n",
    "'''\n",
    "pd.read_sql_query(query, conn)"
   ]
  },
  {
   "cell_type": "code",
   "execution_count": 206,
   "id": "776d6fca-808c-4219-8f48-127fdae36081",
   "metadata": {},
   "outputs": [
    {
     "data": {
      "text/html": [
       "<div>\n",
       "<style scoped>\n",
       "    .dataframe tbody tr th:only-of-type {\n",
       "        vertical-align: middle;\n",
       "    }\n",
       "\n",
       "    .dataframe tbody tr th {\n",
       "        vertical-align: top;\n",
       "    }\n",
       "\n",
       "    .dataframe thead th {\n",
       "        text-align: right;\n",
       "    }\n",
       "</style>\n",
       "<table border=\"1\" class=\"dataframe\">\n",
       "  <thead>\n",
       "    <tr style=\"text-align: right;\">\n",
       "      <th></th>\n",
       "      <th>gender</th>\n",
       "      <th>customers</th>\n",
       "    </tr>\n",
       "  </thead>\n",
       "  <tbody>\n",
       "    <tr>\n",
       "      <th>0</th>\n",
       "      <td>male</td>\n",
       "      <td>309930</td>\n",
       "    </tr>\n",
       "    <tr>\n",
       "      <th>1</th>\n",
       "      <td>female</td>\n",
       "      <td>199002</td>\n",
       "    </tr>\n",
       "  </tbody>\n",
       "</table>\n",
       "</div>"
      ],
      "text/plain": [
       "   gender  customers\n",
       "0    male     309930\n",
       "1  female     199002"
      ]
     },
     "execution_count": 206,
     "metadata": {},
     "output_type": "execute_result"
    }
   ],
   "source": [
    "query = '''\n",
    "    SELECT gender, count(*) AS customers\n",
    "    FROM customers\n",
    "    GROUP BY gender\n",
    "    ORDER BY customers DESC\n",
    "'''\n",
    "pd.read_sql_query(query, conn)"
   ]
  },
  {
   "cell_type": "code",
   "execution_count": 210,
   "id": "f9c2ed58-34da-4eb3-8f08-f885ceeddf54",
   "metadata": {},
   "outputs": [
    {
     "data": {
      "text/html": [
       "<div>\n",
       "<style scoped>\n",
       "    .dataframe tbody tr th:only-of-type {\n",
       "        vertical-align: middle;\n",
       "    }\n",
       "\n",
       "    .dataframe tbody tr th {\n",
       "        vertical-align: top;\n",
       "    }\n",
       "\n",
       "    .dataframe thead th {\n",
       "        text-align: right;\n",
       "    }\n",
       "</style>\n",
       "<table border=\"1\" class=\"dataframe\">\n",
       "  <thead>\n",
       "    <tr style=\"text-align: right;\">\n",
       "      <th></th>\n",
       "      <th>age</th>\n",
       "      <th>customers</th>\n",
       "    </tr>\n",
       "  </thead>\n",
       "  <tbody>\n",
       "    <tr>\n",
       "      <th>0</th>\n",
       "      <td>60</td>\n",
       "      <td>24483</td>\n",
       "    </tr>\n",
       "    <tr>\n",
       "      <th>1</th>\n",
       "      <td>61</td>\n",
       "      <td>24380</td>\n",
       "    </tr>\n",
       "    <tr>\n",
       "      <th>2</th>\n",
       "      <td>59</td>\n",
       "      <td>24298</td>\n",
       "    </tr>\n",
       "    <tr>\n",
       "      <th>3</th>\n",
       "      <td>58</td>\n",
       "      <td>24126</td>\n",
       "    </tr>\n",
       "    <tr>\n",
       "      <th>4</th>\n",
       "      <td>62</td>\n",
       "      <td>23645</td>\n",
       "    </tr>\n",
       "  </tbody>\n",
       "</table>\n",
       "</div>"
      ],
      "text/plain": [
       "   age  customers\n",
       "0   60      24483\n",
       "1   61      24380\n",
       "2   59      24298\n",
       "3   58      24126\n",
       "4   62      23645"
      ]
     },
     "execution_count": 210,
     "metadata": {},
     "output_type": "execute_result"
    }
   ],
   "source": [
    "query = '''\n",
    "    SELECT age, count(*) AS customers\n",
    "    FROM customers\n",
    "    GROUP BY age\n",
    "    ORDER BY customers DESC\n",
    "    LIMIT 5\n",
    "'''\n",
    "pd.read_sql_query(query, conn)"
   ]
  },
  {
   "cell_type": "code",
   "execution_count": 256,
   "id": "44a124fc-39ec-4462-a400-0a1748ff35a5",
   "metadata": {},
   "outputs": [
    {
     "data": {
      "text/html": [
       "<div>\n",
       "<style scoped>\n",
       "    .dataframe tbody tr th:only-of-type {\n",
       "        vertical-align: middle;\n",
       "    }\n",
       "\n",
       "    .dataframe tbody tr th {\n",
       "        vertical-align: top;\n",
       "    }\n",
       "\n",
       "    .dataframe thead th {\n",
       "        text-align: right;\n",
       "    }\n",
       "</style>\n",
       "<table border=\"1\" class=\"dataframe\">\n",
       "  <thead>\n",
       "    <tr style=\"text-align: right;\">\n",
       "      <th></th>\n",
       "      <th>name</th>\n",
       "      <th>avg_age</th>\n",
       "      <th>total_customers</th>\n",
       "      <th>total_revenue</th>\n",
       "    </tr>\n",
       "  </thead>\n",
       "  <tbody>\n",
       "    <tr>\n",
       "      <th>0</th>\n",
       "      <td>annual_subscription</td>\n",
       "      <td>58.470121</td>\n",
       "      <td>69682</td>\n",
       "      <td>83618400</td>\n",
       "    </tr>\n",
       "    <tr>\n",
       "      <th>1</th>\n",
       "      <td>monthly_subscription</td>\n",
       "      <td>58.340700</td>\n",
       "      <td>42803</td>\n",
       "      <td>5350375</td>\n",
       "    </tr>\n",
       "  </tbody>\n",
       "</table>\n",
       "</div>"
      ],
      "text/plain": [
       "                   name    avg_age  total_customers  total_revenue\n",
       "0   annual_subscription  58.470121            69682       83618400\n",
       "1  monthly_subscription  58.340700            42803        5350375"
      ]
     },
     "execution_count": 256,
     "metadata": {},
     "output_type": "execute_result"
    }
   ],
   "source": [
    "#Total revenue, total customers, and avg age of 'current' customers\n",
    "query = '''\n",
    "    SELECT p.name, avg(c.age) AS avg_age, count(c.customer_id) AS total_customers,\n",
    "        SUM(p.price) AS total_revenue\n",
    "    FROM signup_cancel s\n",
    "    JOIN products p ON s.product = p.product_id\n",
    "    JOIN customers c ON s.customer_id = c.customer_id\n",
    "    WHERE s.cancel_date_time IS NOT NULL\n",
    "    GROUP BY p.name\n",
    "'''\n",
    "pd.read_sql_query(query, conn)"
   ]
  },
  {
   "cell_type": "markdown",
   "id": "212a7052-638c-4d1a-9152-43fce1d28e53",
   "metadata": {},
   "source": [
    "### Python EDA "
   ]
  },
  {
   "cell_type": "code",
   "execution_count": 471,
   "id": "fe5e292d-fd84-41c6-82b8-19dba95af733",
   "metadata": {},
   "outputs": [
    {
     "name": "stderr",
     "output_type": "stream",
     "text": [
      "C:\\Anaconda_Stuff\\Lib\\site-packages\\seaborn\\_oldcore.py:1119: FutureWarning: use_inf_as_na option is deprecated and will be removed in a future version. Convert inf values to NaN before operating instead.\n",
      "  with pd.option_context('mode.use_inf_as_na', True):\n"
     ]
    },
    {
     "data": {
      "image/png": "[encoded data removed]",
      "text/plain": [
       "<Figure size 640x480 with 1 Axes>"
      ]
     },
     "metadata": {},
     "output_type": "display_data"
    }
   ],
   "source": [
    "sns.histplot(df_customer_info['age'], bins=10, kde=True)\n",
    "plt.title('Age Distribution')\n",
    "plt.show()"
   ]
  },
  {
   "cell_type": "code",
   "execution_count": 480,
   "id": "c652940c-b021-4cf4-96f4-8acedad2d90e",
   "metadata": {},
   "outputs": [
    {
     "data": {
      "image/png": "[encoded data removed]",
      "text/plain": [
       "<Figure size 640x480 with 1 Axes>"
      ]
     },
     "metadata": {},
     "output_type": "display_data"
    }
   ],
   "source": [
    "df_signup_cancel['status'].value_counts().plot(kind='barh')\n",
    "plt.title('Subscription Status')\n",
    "plt.show()"
   ]
  },
  {
   "cell_type": "code",
   "execution_count": 494,
   "id": "c4c0c4d9-2e9a-4ed5-a784-93bee00167bf",
   "metadata": {},
   "outputs": [
    {
     "name": "stdout",
     "output_type": "stream",
     "text": [
      "status   Active  Inactive\n",
      "product                  \n",
      "prd_1    255967     69682\n",
      "prd_2    140480     42803\n"
     ]
    }
   ],
   "source": [
    "pivot = df_signup_cancel.pivot_table(\n",
    "    index='product', columns='status', aggfunc='size', fill_value=0)\n",
    "\n",
    "print(pivot)"
   ]
  },
  {
   "cell_type": "code",
   "execution_count": 550,
   "id": "5d941b1f-746d-4675-932f-51eb05a3286a",
   "metadata": {},
   "outputs": [
    {
     "data": {
      "text/html": [
       "<div>\n",
       "<style scoped>\n",
       "    .dataframe tbody tr th:only-of-type {\n",
       "        vertical-align: middle;\n",
       "    }\n",
       "\n",
       "    .dataframe tbody tr th {\n",
       "        vertical-align: top;\n",
       "    }\n",
       "\n",
       "    .dataframe thead th {\n",
       "        text-align: right;\n",
       "    }\n",
       "</style>\n",
       "<table border=\"1\" class=\"dataframe\">\n",
       "  <thead>\n",
       "    <tr style=\"text-align: right;\">\n",
       "      <th></th>\n",
       "      <th></th>\n",
       "      <th>customer_id</th>\n",
       "    </tr>\n",
       "    <tr>\n",
       "      <th>product</th>\n",
       "      <th>status</th>\n",
       "      <th></th>\n",
       "    </tr>\n",
       "  </thead>\n",
       "  <tbody>\n",
       "    <tr>\n",
       "      <th rowspan=\"2\" valign=\"top\">prd_1</th>\n",
       "      <th>Active</th>\n",
       "      <td>255967</td>\n",
       "    </tr>\n",
       "    <tr>\n",
       "      <th>Inactive</th>\n",
       "      <td>69682</td>\n",
       "    </tr>\n",
       "    <tr>\n",
       "      <th rowspan=\"2\" valign=\"top\">prd_2</th>\n",
       "      <th>Active</th>\n",
       "      <td>140480</td>\n",
       "    </tr>\n",
       "    <tr>\n",
       "      <th>Inactive</th>\n",
       "      <td>42803</td>\n",
       "    </tr>\n",
       "  </tbody>\n",
       "</table>\n",
       "</div>"
      ],
      "text/plain": [
       "                  customer_id\n",
       "product status               \n",
       "prd_1   Active         255967\n",
       "        Inactive        69682\n",
       "prd_2   Active         140480\n",
       "        Inactive        42803"
      ]
     },
     "execution_count": 550,
     "metadata": {},
     "output_type": "execute_result"
    }
   ],
   "source": [
    "df_signup_cancel[['customer_id', 'status', 'product']].groupby(['product', 'status']).count()"
   ]
  },
  {
   "cell_type": "code",
   "execution_count": 516,
   "id": "d1537959-f023-4471-b910-962c57a82209",
   "metadata": {},
   "outputs": [
    {
     "data": {
      "image/png": "[encoded data removed]",
      "text/plain": [
       "<Figure size 640x480 with 1 Axes>"
      ]
     },
     "metadata": {},
     "output_type": "display_data"
    }
   ],
   "source": [
    "channel_reason = df_cases.groupby(['channel', 'reason']).size().unstack()\n",
    "channel_reason.plot(kind='bar', stacked=True)\n",
    "plt.title('Cases by Channel and Reason')\n",
    "plt.show()"
   ]
  },
  {
   "cell_type": "code",
   "execution_count": 540,
   "id": "977b59d1-b2f5-4efd-b902-01eaddf73963",
   "metadata": {},
   "outputs": [
    {
     "data": {
      "image/png": "[encoded data removed]",
      "text/plain": [
       "<Figure size 640x480 with 1 Axes>"
      ]
     },
     "metadata": {},
     "output_type": "display_data"
    },
    {
     "data": {
      "text/html": [
       "<div>\n",
       "<style scoped>\n",
       "    .dataframe tbody tr th:only-of-type {\n",
       "        vertical-align: middle;\n",
       "    }\n",
       "\n",
       "    .dataframe tbody tr th {\n",
       "        vertical-align: top;\n",
       "    }\n",
       "\n",
       "    .dataframe thead th {\n",
       "        text-align: right;\n",
       "    }\n",
       "</style>\n",
       "<table border=\"1\" class=\"dataframe\">\n",
       "  <thead>\n",
       "    <tr style=\"text-align: right;\">\n",
       "      <th></th>\n",
       "      <th>product_id</th>\n",
       "      <th>name</th>\n",
       "      <th>price</th>\n",
       "      <th>billing_cycle</th>\n",
       "    </tr>\n",
       "  </thead>\n",
       "  <tbody>\n",
       "    <tr>\n",
       "      <th>0</th>\n",
       "      <td>prd_1</td>\n",
       "      <td>annual_subscription</td>\n",
       "      <td>1200</td>\n",
       "      <td>12</td>\n",
       "    </tr>\n",
       "    <tr>\n",
       "      <th>1</th>\n",
       "      <td>prd_2</td>\n",
       "      <td>monthly_subscription</td>\n",
       "      <td>125</td>\n",
       "      <td>1</td>\n",
       "    </tr>\n",
       "  </tbody>\n",
       "</table>\n",
       "</div>"
      ],
      "text/plain": [
       "  product_id                  name  price  billing_cycle\n",
       "0      prd_1   annual_subscription   1200             12\n",
       "1      prd_2  monthly_subscription    125              1"
      ]
     },
     "execution_count": 540,
     "metadata": {},
     "output_type": "execute_result"
    }
   ],
   "source": [
    "revenue = pd.merge(df_signup_cancel, df_products, left_on='product', right_on='product_id')\n",
    "revenue['total_revenue'] = revenue['price']\n",
    "\n",
    "revenue_by_product = revenue.groupby('product')['total_revenue'].sum()\n",
    "revenue_by_product.plot(kind='bar')\n",
    "plt.title('Total Revenue by Product')\n",
    "plt.ylabel('Revenue')\n",
    "plt.show()\n",
    "df_products"
   ]
  },
  {
   "cell_type": "code",
   "execution_count": null,
   "id": "00fde2de-c3a8-4a0e-966d-677822ea2301",
   "metadata": {},
   "outputs": [],
   "source": []
  },
  {
   "cell_type": "code",
   "execution_count": null,
   "id": "db822c7c-7ae4-4cdc-be07-93e0a9e6e448",
   "metadata": {},
   "outputs": [],
   "source": []
  },
  {
   "cell_type": "code",
   "execution_count": null,
   "id": "3886a40b-2f09-4909-9645-bce088ef4331",
   "metadata": {},
   "outputs": [],
   "source": []
  },
  {
   "cell_type": "code",
   "execution_count": null,
   "id": "deff5ea8-a463-47bf-ab1f-080baebc894d",
   "metadata": {},
   "outputs": [],
   "source": []
  },
  {
   "cell_type": "code",
   "execution_count": null,
   "id": "d3fe83b7-8b90-42db-bddb-d21622e70c51",
   "metadata": {},
   "outputs": [],
   "source": []
  },
  {
   "cell_type": "markdown",
   "id": "1b333087-4b95-4ea1-be7f-f475f6056b00",
   "metadata": {},
   "source": [
    "## Times Series Analysis"
   ]
  },
  {
   "cell_type": "code",
   "execution_count": 124,
   "id": "56ea2a3c-68c2-4983-acc8-5c78179b16d4",
   "metadata": {},
   "outputs": [
    {
     "data": {
      "text/html": [
       "<div>\n",
       "<style scoped>\n",
       "    .dataframe tbody tr th:only-of-type {\n",
       "        vertical-align: middle;\n",
       "    }\n",
       "\n",
       "    .dataframe tbody tr th {\n",
       "        vertical-align: top;\n",
       "    }\n",
       "\n",
       "    .dataframe thead th {\n",
       "        text-align: right;\n",
       "    }\n",
       "</style>\n",
       "<table border=\"1\" class=\"dataframe\">\n",
       "  <thead>\n",
       "    <tr style=\"text-align: right;\">\n",
       "      <th></th>\n",
       "      <th>Unnamed: 0</th>\n",
       "      <th>customer_id</th>\n",
       "      <th>product</th>\n",
       "      <th>signup_date_time</th>\n",
       "      <th>cancel_date_time</th>\n",
       "    </tr>\n",
       "  </thead>\n",
       "  <tbody>\n",
       "    <tr>\n",
       "      <th>0</th>\n",
       "      <td>1</td>\n",
       "      <td>C2448</td>\n",
       "      <td>prd_1</td>\n",
       "      <td>2017-01-01 10:35:09</td>\n",
       "      <td>NaN</td>\n",
       "    </tr>\n",
       "    <tr>\n",
       "      <th>1</th>\n",
       "      <td>2</td>\n",
       "      <td>C2449</td>\n",
       "      <td>prd_1</td>\n",
       "      <td>2017-01-01 11:39:29</td>\n",
       "      <td>2021-09-05 10:00:02</td>\n",
       "    </tr>\n",
       "    <tr>\n",
       "      <th>2</th>\n",
       "      <td>3</td>\n",
       "      <td>C2450</td>\n",
       "      <td>prd_1</td>\n",
       "      <td>2017-01-01 11:42:00</td>\n",
       "      <td>2019-01-13 16:24:55</td>\n",
       "    </tr>\n",
       "    <tr>\n",
       "      <th>3</th>\n",
       "      <td>4</td>\n",
       "      <td>C2451</td>\n",
       "      <td>prd_2</td>\n",
       "      <td>2017-01-01 13:32:08</td>\n",
       "      <td>NaN</td>\n",
       "    </tr>\n",
       "    <tr>\n",
       "      <th>4</th>\n",
       "      <td>5</td>\n",
       "      <td>C2452</td>\n",
       "      <td>prd_1</td>\n",
       "      <td>2017-01-01 13:57:30</td>\n",
       "      <td>2021-06-28 18:06:01</td>\n",
       "    </tr>\n",
       "    <tr>\n",
       "      <th>...</th>\n",
       "      <td>...</td>\n",
       "      <td>...</td>\n",
       "      <td>...</td>\n",
       "      <td>...</td>\n",
       "      <td>...</td>\n",
       "    </tr>\n",
       "    <tr>\n",
       "      <th>508927</th>\n",
       "      <td>508928</td>\n",
       "      <td>C511375</td>\n",
       "      <td>prd_2</td>\n",
       "      <td>2021-12-31 18:37:58</td>\n",
       "      <td>NaN</td>\n",
       "    </tr>\n",
       "    <tr>\n",
       "      <th>508928</th>\n",
       "      <td>508929</td>\n",
       "      <td>C511376</td>\n",
       "      <td>prd_2</td>\n",
       "      <td>2021-12-31 18:42:00</td>\n",
       "      <td>NaN</td>\n",
       "    </tr>\n",
       "    <tr>\n",
       "      <th>508929</th>\n",
       "      <td>508930</td>\n",
       "      <td>C511377</td>\n",
       "      <td>prd_2</td>\n",
       "      <td>2021-12-31 18:50:53</td>\n",
       "      <td>NaN</td>\n",
       "    </tr>\n",
       "    <tr>\n",
       "      <th>508930</th>\n",
       "      <td>508931</td>\n",
       "      <td>C511378</td>\n",
       "      <td>prd_2</td>\n",
       "      <td>2021-12-31 19:00:38</td>\n",
       "      <td>NaN</td>\n",
       "    </tr>\n",
       "    <tr>\n",
       "      <th>508931</th>\n",
       "      <td>508932</td>\n",
       "      <td>C511379</td>\n",
       "      <td>prd_2</td>\n",
       "      <td>2021-12-31 19:38:21</td>\n",
       "      <td>NaN</td>\n",
       "    </tr>\n",
       "  </tbody>\n",
       "</table>\n",
       "<p>508932 rows × 5 columns</p>\n",
       "</div>"
      ],
      "text/plain": [
       "        Unnamed: 0 customer_id product     signup_date_time  \\\n",
       "0                1       C2448   prd_1  2017-01-01 10:35:09   \n",
       "1                2       C2449   prd_1  2017-01-01 11:39:29   \n",
       "2                3       C2450   prd_1  2017-01-01 11:42:00   \n",
       "3                4       C2451   prd_2  2017-01-01 13:32:08   \n",
       "4                5       C2452   prd_1  2017-01-01 13:57:30   \n",
       "...            ...         ...     ...                  ...   \n",
       "508927      508928     C511375   prd_2  2021-12-31 18:37:58   \n",
       "508928      508929     C511376   prd_2  2021-12-31 18:42:00   \n",
       "508929      508930     C511377   prd_2  2021-12-31 18:50:53   \n",
       "508930      508931     C511378   prd_2  2021-12-31 19:00:38   \n",
       "508931      508932     C511379   prd_2  2021-12-31 19:38:21   \n",
       "\n",
       "           cancel_date_time  \n",
       "0                       NaN  \n",
       "1       2021-09-05 10:00:02  \n",
       "2       2019-01-13 16:24:55  \n",
       "3                       NaN  \n",
       "4       2021-06-28 18:06:01  \n",
       "...                     ...  \n",
       "508927                  NaN  \n",
       "508928                  NaN  \n",
       "508929                  NaN  \n",
       "508930                  NaN  \n",
       "508931                  NaN  \n",
       "\n",
       "[508932 rows x 5 columns]"
      ]
     },
     "execution_count": 124,
     "metadata": {},
     "output_type": "execute_result"
    }
   ],
   "source": [
    "# df_cases\n",
    "# df_customer_info\n",
    "# df_signup_cancel\n",
    "# df_products"
   ]
  },
  {
   "cell_type": "code",
   "execution_count": null,
   "id": "a06cec23-e0be-4317-a86a-d6f215746934",
   "metadata": {},
   "outputs": [],
   "source": []
  },
  {
   "cell_type": "code",
   "execution_count": null,
   "id": "7da84eef-4653-4a12-af33-505b20a28da7",
   "metadata": {},
   "outputs": [],
   "source": []
  },
  {
   "cell_type": "code",
   "execution_count": null,
   "id": "37c121e3-c3fe-45ca-a230-429be0581344",
   "metadata": {},
   "outputs": [],
   "source": []
  },
  {
   "cell_type": "code",
   "execution_count": null,
   "id": "8348766e-1ab8-4192-b2b8-add02bccdce6",
   "metadata": {},
   "outputs": [],
   "source": []
  },
  {
   "cell_type": "code",
   "execution_count": null,
   "id": "a68fc702-5f9a-4d3e-ad60-c08d893ce7a0",
   "metadata": {},
   "outputs": [],
   "source": []
  },
  {
   "cell_type": "code",
   "execution_count": null,
   "id": "5a6dd8da-6e72-4508-a438-29bf2cade7e0",
   "metadata": {},
   "outputs": [],
   "source": []
  },
  {
   "cell_type": "code",
   "execution_count": null,
   "id": "0a0ca754-4d0e-4f34-bf36-f8e7d1a29bc1",
   "metadata": {},
   "outputs": [],
   "source": []
  },
  {
   "cell_type": "code",
   "execution_count": null,
   "id": "85e1f5b4-ecde-4633-ba41-4dff2b458650",
   "metadata": {},
   "outputs": [],
   "source": []
  }
 ],
 "metadata": {
  "kernelspec": {
   "display_name": "Python 3 (ipykernel)",
   "language": "python",
   "name": "python3"
  },
  "language_info": {
   "codemirror_mode": {
    "name": "ipython",
    "version": 3
   },
   "file_extension": ".py",
   "mimetype": "text/x-python",
   "name": "python",
   "nbconvert_exporter": "python",
   "pygments_lexer": "ipython3",
   "version": "3.11.7"
  }
 },
 "nbformat": 4,
 "nbformat_minor": 5
}
